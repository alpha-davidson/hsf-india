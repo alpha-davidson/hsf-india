{
  "cells": [
    {
      "cell_type": "markdown",
      "metadata": {
        "id": "5UDKqBOW0F8Q"
      },
      "source": [
        "# Convolutional Neural Networks\n",
        "\n",
        "In this notebook, you will be training Convolutional Neural Networks (CNNs) for image classification tasks. We will walk through the technicalities of building a CNN with TensorFlow's high-level Keras API as well as some practical tips for training CNNs and evaluating their performace.\n",
        "\n",
        "If you are using Google Colab, make sure you are using a GPU-enabled runtime. Go to \"Runtime\" $\\rightarrow$ \"Change runtime type\", then make sure \"GPU\" is selected for \"Hardware accelerator\"."
      ]
    },
    {
      "cell_type": "markdown",
      "metadata": {
        "id": "vSQSsrX90F8S"
      },
      "source": [
        "## Setup\n",
        "\n",
        "First we import the Python packages that we'll be using."
      ]
    },
    {
      "cell_type": "code",
      "execution_count": 1,
      "metadata": {
        "id": "aG4lWWJ40F8U"
      },
      "outputs": [],
      "source": [
        "import os\n",
        "\n",
        "import tensorflow as tf\n",
        "import numpy as np\n",
        "import matplotlib.pyplot as plt\n",
        "import h5py\n",
        "from sklearn.metrics import confusion_matrix, classification_report\n",
        "\n",
        "# This is simply an alias for convenience\n",
        "layers = tf.keras.layers\n"
      ]
    },
    {
      "cell_type": "markdown",
      "metadata": {
        "id": "y_ZBG4nPfvEx"
      },
      "source": [
        "We also define some utility functions that will be helpful. You don't need to look at these too closely, unless you are curious."
      ]
    },
    {
      "cell_type": "code",
      "execution_count": 2,
      "metadata": {
        "id": "jSQ1yJec0F8w"
      },
      "outputs": [],
      "source": [
        "def get_attpc_class(label):\n",
        "    \"\"\"Gets the class name for a given label.\n",
        "\n",
        "    Arguments:\n",
        "        label (int): The integer target label.\n",
        "\n",
        "    Returns:\n",
        "        The name of the class that corresponds to the given label.\n",
        "    \"\"\"\n",
        "    return ['proton', 'carbon', 'other'][label]\n",
        "\n",
        "def load_attpc_data():\n",
        "    \"\"\"Loads in the AT-TPC data.\n",
        "\n",
        "    Returns:\n",
        "        A tuple of the form ((real_features, real_targets), (simulated_features, simulated_targets))\n",
        "    \"\"\"\n",
        "    simulated_data_origin = 'https://github.com/CompPhysics/MachineLearningMSU/raw/master/Day2_materials/data/simulated-attpc-events.h5'\n",
        "    real_data_origin = 'https://github.com/CompPhysics/MachineLearningMSU/raw/master/Day2_materials/data/real-attpc-events.h5'\n",
        "\n",
        "    simulated_path = tf.keras.utils.get_file('simulated-attpc-data.h5', origin=simulated_data_origin)\n",
        "    real_path = tf.keras.utils.get_file('real-attpc-data.h5', origin=real_data_origin)\n",
        "\n",
        "    with h5py.File(simulated_path, 'r') as h5:\n",
        "        simulated_features = h5['features'][:]\n",
        "        simulated_targets = h5['targets'][:]\n",
        "\n",
        "    with h5py.File(real_path, 'r') as h5:\n",
        "        real_features = h5['features'][:]\n",
        "        real_targets = h5['targets'][:]\n",
        "\n",
        "    return (real_features, real_targets), (simulated_features, simulated_targets)\n",
        "\n",
        "def plot_learning_curve(history):\n",
        "    \"\"\"Plots a learning curve from a training history.\n",
        "\n",
        "    Arguments:\n",
        "        history (dict): The training history returned by `model.fit()`.\n",
        "\n",
        "    Returns:\n",
        "        None.\n",
        "    \"\"\"\n",
        "    plt.figure(figsize=(11, 6), dpi=100)\n",
        "    plt.plot(history.history['loss'], 'o-', label='Training Loss')\n",
        "    plt.plot(history.history['val_loss'], 'o:', color='r', label='Validation Loss')\n",
        "    plt.legend(loc='best')\n",
        "    plt.title('Learning Curve')\n",
        "    plt.xlabel('Epoch')\n",
        "    plt.ylabel('Loss')\n",
        "    plt.xticks(range(0, len(history.history['loss'])), range(1, len(history.history['loss']) + 1))\n",
        "    plt.show()\n",
        "\n",
        "def plot_confusion_matrix(y_true,\n",
        "                          y_pred,\n",
        "                          classes,\n",
        "                          title=None,\n",
        "                          cmap=plt.cm.Blues):\n",
        "    \"\"\"This function prints and plots the confusion matrix.\n",
        "\n",
        "    Adapted from:\n",
        "    https://scikit-learn.org/stable/auto_examples/model_selection/plot_confusion_matrix.html\n",
        "\n",
        "    Arguments:\n",
        "        y_true: Real class labels.\n",
        "        y_pred: Predicted class labels.\n",
        "        classes: List of class names.\n",
        "        title: Title for the plot.\n",
        "        cmap: Colormap to be used.\n",
        "\n",
        "    Returns:\n",
        "        None.\n",
        "    \"\"\"\n",
        "    if not title:\n",
        "        title = 'Confusion matrix'\n",
        "\n",
        "    # Compute confusion matrix\n",
        "    cm = confusion_matrix(y_true, y_pred)\n",
        "\n",
        "    fig, ax = plt.subplots(figsize=(4, 4), dpi=100)\n",
        "    im = ax.imshow(cm, interpolation='nearest', cmap=cmap)\n",
        "    ax.figure.colorbar(im, ax=ax)\n",
        "    # We want to show all ticks...\n",
        "    ax.set(xticks=np.arange(cm.shape[1]),\n",
        "           yticks=np.arange(cm.shape[0]),\n",
        "           # ... and label them with the respective list entries\n",
        "           xticklabels=classes, yticklabels=classes,\n",
        "           title=title,\n",
        "           ylabel='True label',\n",
        "           xlabel='Predicted label')\n",
        "\n",
        "    # Rotate the tick labels and set their alignment.\n",
        "    plt.setp(ax.get_xticklabels(), rotation=45, ha='right', rotation_mode='anchor')\n",
        "\n",
        "    # Loop over data dimensions and create text annotations.\n",
        "    thresh = cm.max() / 2.\n",
        "    for i in range(cm.shape[0]):\n",
        "        for j in range(cm.shape[1]):\n",
        "            ax.text(j, i, format(cm[i, j], 'd'),\n",
        "                    ha='center', va='center',\n",
        "                    color='white' if cm[i, j] > thresh else 'black')\n",
        "    fig.tight_layout()\n",
        "    plt.show()"
      ]
    },
    {
      "cell_type": "markdown",
      "metadata": {
        "id": "UeCyhkUa0F8Y"
      },
      "source": [
        "## Classifying Handwritten Digits\n",
        "\n",
        "We are going to start by training a model on the [MNIST database of handwritten digits](http://yann.lecun.com/exdb/mnist/). MNIST is a classic dataset consisting of 70,000 images of handwritten digits (0 - 9). Our goal is to create a classifier that can identify the digit based on the image alone. This turns out to be a very easy problem (our CNN should have >99% accuracy), so it makes for a very good introduction to CNNs as we can easily verify that everything is working as expected."
      ]
    },
    {
      "cell_type": "markdown",
      "metadata": {
        "id": "aczQtAu80F8Z"
      },
      "source": [
        "### Data exploration and prepreprocessing\n",
        "\n",
        "First, we need to load the data. TensorFlow makes this easy by including MNIST as one of the datasets that they provide easy access to through the `tf.keras.datasets` API. As a side note, many machine learning applications rely on a few standard datasets that are easily accessible through `tf.keras.datasets` and [TensorFlow Datasets](https://www.tensorflow.org/datasets). These are great resources that can often save lots of time."
      ]
    },
    {
      "cell_type": "code",
      "execution_count": 3,
      "metadata": {
        "colab": {
          "base_uri": "https://localhost:8080/"
        },
        "id": "Kajx7Bu20F8a",
        "outputId": "2597b986-6517-43cd-e481-952a921b20b0"
      },
      "outputs": [
        {
          "output_type": "stream",
          "name": "stdout",
          "text": [
            "Downloading data from https://storage.googleapis.com/tensorflow/tf-keras-datasets/mnist.npz\n",
            "\u001b[1m11490434/11490434\u001b[0m \u001b[32m━━━━━━━━━━━━━━━━━━━━\u001b[0m\u001b[37m\u001b[0m \u001b[1m0s\u001b[0m 0us/step\n"
          ]
        }
      ],
      "source": [
        "(x_train, y_train), (x_test, y_test) = tf.keras.datasets.mnist.load_data()"
      ]
    },
    {
      "cell_type": "markdown",
      "metadata": {
        "id": "WiIz4Mea0F8d"
      },
      "source": [
        "The data is conveniently already split in to a training set of 60,000 and a test set of 10,000. Now lets take a closer look at the training set."
      ]
    },
    {
      "cell_type": "code",
      "execution_count": 4,
      "metadata": {
        "colab": {
          "base_uri": "https://localhost:8080/"
        },
        "id": "Jp85LuNF0F8e",
        "outputId": "4f294e22-7690-4d11-b168-248cd4f2fd5e"
      },
      "outputs": [
        {
          "output_type": "stream",
          "name": "stdout",
          "text": [
            "Training Features:\n",
            "   Shape: (60000, 28, 28)\n",
            "   Type: uint8\n",
            "\n",
            "Training Targets:\n",
            "   Shape: (60000,)\n",
            "   Type: uint8\n"
          ]
        }
      ],
      "source": [
        "print('Training Features:\\n   Shape: {}\\n   Type: {}\\n'.format(x_train.shape, x_train.dtype))\n",
        "print('Training Targets:\\n   Shape: {}\\n   Type: {}'.format(y_train.shape, y_train.dtype))"
      ]
    },
    {
      "cell_type": "markdown",
      "metadata": {
        "id": "h31aE9BL0F8i"
      },
      "source": [
        "Each of the 60,000 training examples is a 28 x 28 grayscale image with pixel values in the range 0 - 255. We visualize the first 25 examples and their corresponding labels below."
      ]
    },
    {
      "cell_type": "code",
      "execution_count": 5,
      "metadata": {
        "cellView": "form",
        "colab": {
          "base_uri": "https://localhost:8080/",
          "height": 682
        },
        "id": "C9djE9X30F8i",
        "outputId": "bb117b4d-48b2-4ae1-cceb-78de052e73c1"
      },
      "outputs": [
        {
          "output_type": "display_data",
          "data": {
            "text/plain": [
              "<Figure size 1000x1000 with 25 Axes>"
            ],
            "image/png": "[encoded data removed]"
          },
          "metadata": {}
        }
      ],
      "source": [
        "plt.figure(figsize=(10, 10))\n",
        "\n",
        "for i in range(25):\n",
        "    plt.subplot(5, 5, i + 1)\n",
        "    plt.xticks([])\n",
        "    plt.yticks([])\n",
        "    plt.grid(False)\n",
        "    plt.imshow(x_train[i], cmap=plt.cm.binary)\n",
        "    plt.xlabel(y_train[i])\n",
        "\n",
        "plt.show()"
      ]
    },
    {
      "cell_type": "markdown",
      "metadata": {
        "id": "CTeHEmgI0F8l"
      },
      "source": [
        "Now we must preprocess the data. While it doesn't actually make much a difference for the MNIST task, in general it is critical to perform some kind of normalization of your data before handing it off to a model. It can have a suprising large effect on a model's perforamce and make a model require less sensitive to hyperparameters. We will scale the pixel values to the range [-1, 1]."
      ]
    },
    {
      "cell_type": "code",
      "execution_count": null,
      "metadata": {
        "id": "l5fGtRMS0F8m"
      },
      "outputs": [],
      "source": [
        "x_train = x_train / 255\n",
        "x_test = x_test / 255"
      ]
    },
    {
      "cell_type": "markdown",
      "metadata": {
        "id": "m32E58Pd0F8n"
      },
      "source": [
        "There is one final detail we need to take care of before proceeding. Images are generally three dimensional because there are three color channels. Because the MNIST data is grayscale, it is technically only two dimensional (one color channel), but the neural network is going to expect three dimensions regardless. So we just need to add an extra dimension to the data so that each example has the shape `(28, 28, 1)` and the network knows how to process the data."
      ]
    },
    {
      "cell_type": "code",
      "execution_count": null,
      "metadata": {
        "id": "ZKzPA4680F8n",
        "outputId": "43446ccd-006b-4402-e1bb-ad821ad423f8"
      },
      "outputs": [
        {
          "name": "stdout",
          "output_type": "stream",
          "text": [
            "Training data shape: (60000, 28, 28, 1)\n",
            "Test data shape: (10000, 28, 28, 1)\n"
          ]
        }
      ],
      "source": [
        "x_train = np.expand_dims(x_train, axis=3)\n",
        "x_test = np.expand_dims(x_test, axis=3)\n",
        "\n",
        "print('Training data shape: {}'.format(x_train.shape))\n",
        "print('Test data shape: {}'.format(x_test.shape))"
      ]
    },
    {
      "cell_type": "markdown",
      "metadata": {
        "id": "9B6jhiHM0F8p"
      },
      "source": [
        "### Build the model\n",
        "\n",
        "Now we will construct our CNN with TensorFlow's Keras API. Most neural networks are composed of a sequence of feed-forward layers, meaning that each layer is only connected to the ones that come immediately before and after it. The `tf.keras.Sequential` model allows us to easily create such a network by simply defining what kinds of layers should be in the model. We don't have to concern ourselves with how to connect the layers together or how to define the training loop.\n",
        "\n",
        "**In the cell below, construct a CNN with the following architecture:**\n",
        " 1. Convolutional layer with 32 filters, a 4 x 4 kernel, and ReLU activation\n",
        " 2. Max pooling layer with a 2 x 2 pool size\n",
        " 3. Convolutional layer with 32 filters, a 4 x 4 kernel, and ReLU activation\n",
        " 4. Max pooling layer with a 2 x 2 pool size\n",
        " 5. Fully-connected layer with 128 units and ReLU activation\n",
        " 6. Fully-connected layer with an output unit for each class and softmax activation\n",
        "\n",
        "This architecture is a mini version of the novel architecture introduced by [Krizhevsky et al.](http://papers.nips.cc/paper/4824-imagenet-classification-with-deep-convolutional-neural-networks.pdf), which set the state-of-the-art on the ImageNet dataset and sparked the rise of CNNs.\n",
        "\n",
        "Some tips:\n",
        " * Use `model.add(<layer>)` to add a new layer to the sequential model.\n",
        " * Use [`layers.Conv2D`](https://www.tensorflow.org/api_docs/python/tf/keras/layers/Conv2D) for your convolutional layers.\n",
        " * Use [`layers.MaxPool2D`](https://www.tensorflow.org/api_docs/python/tf/keras/layers/MaxPool2D) for your pooling layers.\n",
        " * Use [`layers.Dense`](https://www.tensorflow.org/api_docs/python/tf/keras/layers/Dense) for your fully-connected layers.\n",
        " * Before adding the first fully-connected layer, the convolutional features must be flattened to a 1D vector. See [`layers.Flatten`](https://www.tensorflow.org/api_docs/python/tf/keras/layers/Flatten).\n",
        " * The [`tf.nn`](https://www.tensorflow.org/api_docs/python/tf/nn) module provides access to several common activation functions.\n",
        " * The first layer in the network needs the keyword argument `input_shape` whose value is a tuple that gives the shape of a training example. This shape is already extracted from the data in the cell below, and just needs to be passed to the first layer."
      ]
    },
    {
      "cell_type": "code",
      "execution_count": null,
      "metadata": {
        "id": "OztITb-80F8p",
        "outputId": "38b516de-0e69-4519-a5a7-2c2ba3e0b5c7"
      },
      "outputs": [
        {
          "ename": "ValueError",
          "evalue": "This model has not yet been built. Build the model first by calling `build()` or calling `fit()` with some data, or specify an `input_shape` argument in the first layer(s) for automatic build.",
          "output_type": "error",
          "traceback": [
            "\u001b[0;31m---------------------------------------------------------------------------\u001b[0m",
            "\u001b[0;31mValueError\u001b[0m                                Traceback (most recent call last)",
            "\u001b[0;32m<ipython-input-16-2215b225f553>\u001b[0m in \u001b[0;36m<module>\u001b[0;34m\u001b[0m\n\u001b[1;32m      9\u001b[0m \u001b[0;34m\u001b[0m\u001b[0m\n\u001b[1;32m     10\u001b[0m \u001b[0;31m# This will print an overview of the network architecture\u001b[0m\u001b[0;34m\u001b[0m\u001b[0;34m\u001b[0m\u001b[0;34m\u001b[0m\u001b[0m\n\u001b[0;32m---> 11\u001b[0;31m \u001b[0mmodel\u001b[0m\u001b[0;34m.\u001b[0m\u001b[0msummary\u001b[0m\u001b[0;34m(\u001b[0m\u001b[0;34m)\u001b[0m\u001b[0;34m\u001b[0m\u001b[0;34m\u001b[0m\u001b[0m\n\u001b[0m",
            "\u001b[0;32m~/anaconda/envs/TALENT2020/lib/python3.7/site-packages/tensorflow_core/python/keras/engine/network.py\u001b[0m in \u001b[0;36msummary\u001b[0;34m(self, line_length, positions, print_fn)\u001b[0m\n\u001b[1;32m   1255\u001b[0m     \"\"\"\n\u001b[1;32m   1256\u001b[0m     \u001b[0;32mif\u001b[0m \u001b[0;32mnot\u001b[0m \u001b[0mself\u001b[0m\u001b[0;34m.\u001b[0m\u001b[0mbuilt\u001b[0m\u001b[0;34m:\u001b[0m\u001b[0;34m\u001b[0m\u001b[0;34m\u001b[0m\u001b[0m\n\u001b[0;32m-> 1257\u001b[0;31m       raise ValueError('This model has not yet been built. '\n\u001b[0m\u001b[1;32m   1258\u001b[0m                        \u001b[0;34m'Build the model first by calling `build()` or calling '\u001b[0m\u001b[0;34m\u001b[0m\u001b[0;34m\u001b[0m\u001b[0m\n\u001b[1;32m   1259\u001b[0m                        \u001b[0;34m'`fit()` with some data, or specify '\u001b[0m\u001b[0;34m\u001b[0m\u001b[0;34m\u001b[0m\u001b[0m\n",
            "\u001b[0;31mValueError\u001b[0m: This model has not yet been built. Build the model first by calling `build()` or calling `fit()` with some data, or specify an `input_shape` argument in the first layer(s) for automatic build."
          ]
        }
      ],
      "source": [
        "# We extract the number of classes and the input shape from the data\n",
        "num_classes = len(np.unique(y_train))\n",
        "input_shape = x_train.shape[1:]\n",
        "\n",
        "# Define a sequential model\n",
        "model = tf.keras.Sequential()\n",
        "\n",
        "# ADD LAYERS HERE\n",
        "\n",
        "\n",
        "\n",
        "# This will print an overview of the network architecture\n",
        "model.summary()"
      ]
    },
    {
      "cell_type": "markdown",
      "metadata": {
        "id": "SCfLY6pb0F8q"
      },
      "source": [
        "Now we can compile the model. We will use the [Adam](https://arxiv.org/pdf/1412.6980.pdf) optimizer (always a safe choice) and train the model to minimize the categorical crossentropy. We also have the model use classification accuracy as a measure of performance."
      ]
    },
    {
      "cell_type": "code",
      "execution_count": null,
      "metadata": {
        "id": "e-MkTir70F8r"
      },
      "outputs": [],
      "source": [
        "model.compile(optimizer=tf.keras.optimizers.Adam(),\n",
        "              loss='sparse_categorical_crossentropy',\n",
        "              metrics=['accuracy'])"
      ]
    },
    {
      "cell_type": "markdown",
      "metadata": {
        "id": "O8Hvm9pY0F8s"
      },
      "source": [
        "### Train the model\n",
        "\n",
        "Now we can finally train the model. This model should converge relatively quickly, so we only need to train for about 5 epochs. We will use a batch size of 32, which is a common choice and generally works well. Training should only take about a minute on a GPU."
      ]
    },
    {
      "cell_type": "code",
      "execution_count": null,
      "metadata": {
        "id": "HjzmTaBB0F8t"
      },
      "outputs": [],
      "source": [
        "model.fit(x_train,\n",
        "          y_train,\n",
        "          batch_size=32,\n",
        "          epochs=5);"
      ]
    },
    {
      "cell_type": "markdown",
      "metadata": {
        "id": "tYJMzHt50F8u"
      },
      "source": [
        "You should be able to see loss and accuracy improve as the model trains. If all goes well, training accuracy should be over 99% at the end."
      ]
    },
    {
      "cell_type": "markdown",
      "metadata": {
        "id": "qn0c-u870F8u"
      },
      "source": [
        "### Evaluating the trained model\n",
        "\n",
        "Now that our model has been trained, we can take a closer look at how it performs. The accuracy on the *training* data is very high, but of course that isn't always indicative of how a model will generalize to unseen data. Given enough representational power and training time, a neural network can simply learn to memorize the training data. We will evaluate our model on the held-out test data."
      ]
    },
    {
      "cell_type": "code",
      "execution_count": null,
      "metadata": {
        "id": "f1DTKXli0F8u"
      },
      "outputs": [],
      "source": [
        "test_loss, test_accuracy = model.evaluate(x_test, y_test, verbose=0)\n",
        "\n",
        "print('Test accuracy: {:.04}'.format(test_accuracy))"
      ]
    },
    {
      "cell_type": "markdown",
      "metadata": {
        "id": "N-C_vzdW0F8v"
      },
      "source": [
        "The test accuracy should be roughly the same as the training accuracy, which tells us that we have been successful! Because the model performs so well, there is not much need to analyze the performance further. We will do a more thorough evaluation in the next example though.\n",
        "\n",
        "It is also worth mentioning that we didn't have to do any hyperparameter tuning in this example. This is an exception, and very rarely will a model perform so well right off the bat. So don't always expect to see great results on the first try. By the same token, **poor initial results are no indication of potential success.**"
      ]
    },
    {
      "cell_type": "markdown",
      "metadata": {
        "id": "RhLgmtUH0F8v"
      },
      "source": [
        "# Classifying AT-TPC $^{46}$Ar Data\n",
        "\n",
        "Now we are going to look at some data that comes from the Argon 46 experiments in the AT-TPC. We will be working with 2D projections of reaction products and will train a CNN to try to classify the particle that was produced in the reaction.\n",
        "\n",
        "This work is based on https://arxiv.org/abs/1810.10350"
      ]
    },
    {
      "cell_type": "markdown",
      "metadata": {
        "id": "d1FlLVXT0F8w"
      },
      "source": [
        "### Data exploration and preprocessing\n",
        "\n",
        "First we load in the AT-TPC data. We will be working with two datasets: one contains real experimental data from the AT-TPC and the other contains simulated events that were created with [`pytpc`](https://github.com/ATTPC/pytpc)."
      ]
    },
    {
      "cell_type": "code",
      "execution_count": null,
      "metadata": {
        "id": "wfJhDOPH0F8x"
      },
      "outputs": [],
      "source": [
        "(real_features, real_targets), (sim_features, sim_targets) = load_attpc_data()"
      ]
    },
    {
      "cell_type": "markdown",
      "metadata": {
        "id": "pexS5uWJ0F8y"
      },
      "source": [
        "In both datasets, each image is 128 x 128 and has pixel values in the range 0 - 255. There 50,000 simulated events, and 2,689 real events have been hand-labeled. Notice that this data has not yet been partitioned into training and testing sets."
      ]
    },
    {
      "cell_type": "code",
      "execution_count": null,
      "metadata": {
        "id": "_zCWYtnf0F8y"
      },
      "outputs": [],
      "source": [
        "print('Real Features:\\n   Shape: {}\\n   Type: {}\\n'.format(real_features.shape, real_features.dtype))\n",
        "print('Real Targets:\\n   Shape: {}\\n   Type: {}\\n'.format(real_targets.shape, real_targets.dtype))\n",
        "print('Simulated Features:\\n   Shape: {}\\n   Type: {}\\n'.format(sim_features.shape, sim_features.dtype))\n",
        "print('Simulated Targets:\\n   Shape: {}\\n   Type: {}'.format(sim_targets.shape, sim_targets.dtype))"
      ]
    },
    {
      "cell_type": "markdown",
      "metadata": {
        "id": "5SZ59azxfvE2"
      },
      "source": [
        "If running this notebook on Google Colab, you will not be able to fit all 50,000 simulated events in RAM after they have been normalized. Run the cell below to use only 10,000."
      ]
    },
    {
      "cell_type": "code",
      "execution_count": null,
      "metadata": {
        "id": "t7_tURTvfvE2"
      },
      "outputs": [],
      "source": [
        "sim_features = sim_features[:10000]\n",
        "sim_targets = sim_targets[:10000]"
      ]
    },
    {
      "cell_type": "markdown",
      "metadata": {
        "id": "C4ZZqHuU0F80"
      },
      "source": [
        "#### Experimental data\n",
        "\n",
        "We visualize the first 25 examples from the experimental dataset below. Events are classified as either \"proton\", \"carbon\", or \"junk\"."
      ]
    },
    {
      "cell_type": "code",
      "execution_count": null,
      "metadata": {
        "id": "dH7fnsgj0F80"
      },
      "outputs": [],
      "source": [
        "plt.figure(figsize=(10, 10))\n",
        "\n",
        "for i in range(25):\n",
        "    plt.subplot(5, 5, i + 1)\n",
        "    plt.xticks([])\n",
        "    plt.yticks([])\n",
        "    plt.grid(False)\n",
        "    plt.imshow(real_features[i], cmap='gray')\n",
        "    plt.xlabel(get_attpc_class(real_targets[i]))\n",
        "\n",
        "plt.show()"
      ]
    },
    {
      "cell_type": "markdown",
      "metadata": {
        "id": "Gc2TxQNJ0F81"
      },
      "source": [
        "#### Simulated data\n",
        "\n",
        "And now we visualize the first 25 examples from the simulated dataset. You'll notice that the noise in the simulated events looks very different from the noise in the real data. This is because there is some systematic structure to the noise in the experimental data, but we are unable to accuractly simulate that noise. This becomes a problem for us later."
      ]
    },
    {
      "cell_type": "code",
      "execution_count": null,
      "metadata": {
        "id": "sl7UeL8F0F81"
      },
      "outputs": [],
      "source": [
        "plt.figure(figsize=(10, 10))\n",
        "\n",
        "for i in range(25):\n",
        "    plt.subplot(5, 5, i + 1)\n",
        "    plt.xticks([])\n",
        "    plt.yticks([])\n",
        "    plt.grid(False)\n",
        "    plt.imshow(sim_features[i], cmap='gray')\n",
        "    plt.xlabel(get_attpc_class(sim_targets[i]))\n",
        "\n",
        "plt.show()"
      ]
    },
    {
      "cell_type": "markdown",
      "metadata": {
        "id": "z9TdNA4Z0F83"
      },
      "source": [
        "Again, we need to preprocess the data. **In the cell below, normalize the data and add a channel dimension, as we did with the MNIST data.**"
      ]
    },
    {
      "cell_type": "code",
      "execution_count": null,
      "metadata": {
        "id": "EH09rptU0F83"
      },
      "outputs": [],
      "source": [
        "# NORMALIZE THE DATA\n",
        "real_features = (real_features - 127.5) / 127.5\n",
        "sim_features = (sim_features - 127.5) / 127.5\n",
        "\n",
        "# ADD A CHANNEL DIMENSION\n",
        "real_features = np.expand_dims(real_features, axis=3)\n",
        "sim_features = np.expand_dims(sim_features, axis=3)\n",
        "\n",
        "# Some checks to make sure the data has been correctly preprocessed\n",
        "assert real_features.shape[1:] == (128, 128, 1), 'Real data has incorrect shape'\n",
        "assert sim_features.shape[1:] == (128, 128, 1), 'Simulated data has incorrect shape'\n",
        "assert real_features.min() >= -1 and real_features.max() <= 1, 'Real data is not in the range [-1, 1]'\n",
        "assert sim_features.min() >= -1 and sim_features.max() <= 1, 'Simulated data is not in the range [-1, 1]'"
      ]
    },
    {
      "cell_type": "markdown",
      "metadata": {
        "id": "mlnFcm9S0F84"
      },
      "source": [
        "### Build the model\n",
        "\n",
        "In this example, we are going to do things a little differently. For the MNIST data, we constructed our own CNN and trained it from scratch. That worked really well for us because it was a small network, small dataset, and relatively easy problem. In practice, designing and training high-performing CNNs from scratch is time consuming and requires large-scale resources. So it is often best not to try to do this yourself. Luckily, companies like Google have already done the heavy lifting for us. TensorFlow provides access to several high-quality networks that have already been trained on datasets with millions of diverse images (such as [ImageNet](http://www.image-net.org)) as general computer-vision models. These complex networks have been trained to identify objects from up 1000 categories. This may not seem immediately useful, but it turns out that training these models on such a large scale forces the networks to learn to extract features are are broadly applicable to many computer vision tasks.\n",
        "\n",
        "So rather than being a hero and training a CNN from scratch, we can instead use the pretrainined convolutional layers from one of these published models and add our own fully-connected classification layers on top. We keep the weights of the convolutional layers frozen, since we know they are already very good at feature extraction, and only update the weights of the top layers, which do the actual classification. This is much faster than training a CNN from scratch, and it can also result in better performance.\n",
        "\n",
        "First, we are going to load in one of these pretrained models. In this example, we are going to use the [VGG16](https://arxiv.org/abs/1409.1556) architecture for image recognition (depicted below).\n",
        "\n",
        "![VGG16 Architecture](https://neurohive.io/wp-content/uploads/2018/11/vgg16-1-e1542731207177.png)\n",
        "\n",
        "Before we actually load the model, there is one final caveat. The VGG network requires that its input images have three channels. Our images currently only have one, so we will add two more channels with the same values as the first. The new image dimensions should be 128 x 128 x 3."
      ]
    },
    {
      "cell_type": "code",
      "execution_count": null,
      "metadata": {
        "id": "UPGzd2-N0F84"
      },
      "outputs": [],
      "source": [
        "real_features = np.repeat(real_features, 3, axis=3)\n",
        "sim_features = np.repeat(sim_features, 3, axis=3)\n",
        "\n",
        "input_shape = real_features.shape[1:]\n",
        "print('Image dimensions: {}'.format(input_shape))"
      ]
    },
    {
      "cell_type": "markdown",
      "metadata": {
        "id": "DUHAxDxl0F85"
      },
      "source": [
        "In the cell below, we define a function that will load the VGG16 model with the parameter weights that were found by training it on [ImageNet](http://www.image-net.org). We also specify that we do not want to include the fully-connected top layers of the model, since those were not trained to classify our data. We will add our own fully connected layers instead. Unfortunately we can't use `vgg_model.add()` like before because it is not a `Sequential` model. The code below adds two fully-connected hidden layers and an output layer to the end of our VGG16 model using the [Functional API](https://www.tensorflow.org/guide/keras#functional_api). It's still a relatively high-level and intuitive API. Take a moment to read through it and understand it."
      ]
    },
    {
      "cell_type": "markdown",
      "metadata": {
        "id": "HwE7WiSN0F86"
      },
      "source": [
        "# Determine the number of class labels\n",
        "num_classes = len(np.unique(real_targets))\n",
        "\n",
        "def build_pretrained_vgg_model():\n",
        "    \"\"\"Constructs a CNN with a VGG16's convolutional base and two fully-connected hidden layers on top.\n",
        "    The convolutional base is frozen (the weights can't be updated) and has weights from training on\n",
        "    the ImageNet dataset.\n",
        "    \n",
        "    Returns:\n",
        "        The model.\n",
        "    \"\"\"\n",
        "    # This loads the VGG16 model from TensorFlow with ImageNet weights\n",
        "    vgg_model = tf.keras.applications.VGG16(include_top=False, weights='imagenet', input_shape=input_shape)\n",
        "    \n",
        "    # First we flatten out the features from the VGG16 model\n",
        "    net = layers.Flatten()(vgg_model.output)\n",
        "\n",
        "    # We create a new fully-connected layer that takes the flattened features as its input\n",
        "    net = layers.Dense(512, activation=tf.nn.relu)(net)\n",
        "    # And we add one more hidden layer\n",
        "    net = layers.Dense(512, activation=tf.nn.relu)(net)\n",
        "\n",
        "    # Then we add a final layer which is connected to the previous layer and\n",
        "    # groups our images into one of the three classes\n",
        "    output = layers.Dense(num_classes, activation=tf.nn.softmax)(net)\n",
        "\n",
        "    # Finally, we create a new model whose input is that of the VGG16 model and whose output\n",
        "    # is the final new layer we just created\n",
        "    model = tf.keras.Model(inputs=vgg_model.input, outputs=output)\n",
        "    \n",
        "    # We loop through all layers except the last four and specify that we do not want\n",
        "    # their weights to be updated during training. Again, the weights of the convolutional\n",
        "    # layers have already been trained for general-purpose feature extraction, and we only\n",
        "    # want to update the fully-connected layers that we just added.\n",
        "    for layer in model.layers[:-4]:\n",
        "        layer.trainable = False\n",
        "        \n",
        "    return model"
      ]
    },
    {
      "cell_type": "markdown",
      "metadata": {
        "id": "b2iVHN5x0F88"
      },
      "source": [
        "Now we can build and compile our model with the same setup as with the MNIST data. The `learning_rate` parameter simply determines how much the network weights will be updated on each gradient descent step; more on this later."
      ]
    },
    {
      "cell_type": "code",
      "execution_count": null,
      "metadata": {
        "id": "r1i2cE--0F8-"
      },
      "outputs": [],
      "source": [
        "model = build_pretrained_vgg_model()\n",
        "\n",
        "model.compile(optimizer=toptimizer=tf.keras.optimizers.Adam(lr=0.0005),\n",
        "              loss='sparse_categorical_crossentropy',\n",
        "              metrics=['accuracy'])"
      ]
    },
    {
      "cell_type": "markdown",
      "metadata": {
        "id": "_hfpCnhifvE4"
      },
      "source": [
        "### Train the model\n",
        "\n",
        "We are almost ready to train, but first we need to define our learning problem. With the MNIST data, you were provided with training and testing sets that came from the same data distribution. In practice, though, we are not always afforded this luxury. Aquiring large amounts of high-quality labeled data is often very challenging. In fact, the whole reason we want to train a classifier for the AT-TPC is so that humans don't need to hand-label the data! So while we could train the network on the real data, we are instead going to try *transfer learning*. This is when we train a model on one data distribution and try to transfer what it learns to a different distribution. In our case, we will train on the simulated data and save the real data for testing. Labeled simulated data is usually readily available in large quantities, so we want to try to use that to our advantage.\n",
        "\n",
        "One final concept we will introduce here is a *validation set*. This is a third set of data that the network will not see during training, and we can use it to evaluate the performance of the model. Unlike the test set, though, we can use the feedback from the validation data to make adjustments that improve the model's performance. Then the final evaluation will be done with the test data.\n",
        "\n",
        "Now we can train the model. The `validation_split=0.2` argument tells the program to set aside 20% of the traning data for validation. At the end of each epoch, the model will be evaluated on the validation set.\n",
        "\n",
        "Note that training this model will take substantially longer than with the MNIST data. There are a couple of reasons for this. Obviously the network is much larger, and even though we are only training the top layers, there is still an expensive forward pass through the entire network. Also, our AT-TPC images are much larger than the MNIST data, in width, height, and number of channels. This should give you an idea for how these problems scale and why we like to start from networks that have already been trained on millions of images (rather than doing it ourselves).\n",
        "\n",
        "We are going to start by using only 5,000 training examples so that the training time is managable at first (should be about 20 seconds per epoch on a GPU)."
      ]
    },
    {
      "cell_type": "code",
      "execution_count": null,
      "metadata": {
        "id": "6YFOAWH00F8_"
      },
      "outputs": [],
      "source": [
        "model.fit(sim_features[:5000],\n",
        "          sim_targets[:5000],\n",
        "          batch_size=32,\n",
        "          epochs=3,\n",
        "          validation_split=0.2);"
      ]
    },
    {
      "cell_type": "markdown",
      "metadata": {
        "id": "aGand_0qfvE4"
      },
      "source": [
        "If all goes \"right\", you should see the model quickly gets stuck at about 33% training and validation accuracy. Essentially, the model is just making random guesses, since the simulated data is evenly distributed among the three classes. This is a perfect example of how things don't always work right off the bat. We usually need to do some hyperparameter tuning. Out of all the hyperparameters, learning rate is often the most important. If the learning rate is too low or too high, the gradient descent can get stuck at a local minimum or just bounce around.\n",
        "\n",
        "Lets try again, but this time with a lower learning rate. **In the cell below, compile the model with an Adam optimizer with a learning rate of 0.001.**"
      ]
    },
    {
      "cell_type": "code",
      "execution_count": null,
      "metadata": {
        "id": "SNFBTIWNfvE4"
      },
      "outputs": [],
      "source": [
        "# We have to remake the model in order to reset the weights.\n",
        "# Otherwise, when we call `fit` again, we will be continuing training from where we left off before.\n",
        "model = build_pretrained_vgg_model()\n",
        "\n",
        "# ADD AN ADAM OPTIMIZER WITH A LEARNING RATE OF 0.001\n",
        "model.compile(optimizer=None,\n",
        "              loss='sparse_categorical_crossentropy',\n",
        "              metrics=['accuracy'])\n",
        "\n",
        "\n",
        "model.fit(sim_features[:5000],\n",
        "          sim_targets[:5000],\n",
        "          batch_size=32,\n",
        "          epochs=3,\n",
        "          validation_split=0.2);"
      ]
    },
    {
      "cell_type": "markdown",
      "metadata": {
        "id": "MjN9RZz0fvE4"
      },
      "source": [
        "With just this small change, you should see a *huge* improvement in accuracy. The network actually learns something now! While this was a contrived example, it is very common for hyperparameters to greatly affect performance, so always make sure you try tuning your network before declaring failure.\n",
        "\n",
        "#### Callbacks and saving trained networks\n",
        "\n",
        "We are going to retrain the model for a little longer, but first we are going to introduce *callbacks*, which will allow us to periodically save network weights during training so that they can be reloaded at a later time. Callbacks are objects that you can pass to the model at training time which will perform certain tasks at the end of each epoch. In the cell below, we create a [`ModelCheckpoint`](https://www.tensorflow.org/api_docs/python/tf/keras/callbacks/ModelCheckpoint) callback which will save the network parameters to files after each epoch."
      ]
    },
    {
      "cell_type": "code",
      "execution_count": null,
      "metadata": {
        "id": "yFA6GVm6fvE4"
      },
      "outputs": [],
      "source": [
        "# This is the directory where model weights will be saved. Feel free to change it.\n",
        "CHECKPOINT_DIR = './model-checkpoints/'\n",
        "\n",
        "if not os.path.exists(CHECKPOINT_DIR):\n",
        "    os.makedirs(CHECKPOINT_DIR)\n",
        "\n",
        "# The checkpoints will be saved with the corresponding epoch number in their filename\n",
        "ckpt_path = os.path.join(CHECKPOINT_DIR, 'weights.epoch.{epoch:02d}')\n",
        "\n",
        "# Setup checkpoint callback. We only save the weights, not the entire model\n",
        "ckpt_callback = tf.keras.callbacks.ModelCheckpoint(ckpt_path, save_weights_only=True)"
      ]
    },
    {
      "cell_type": "markdown",
      "metadata": {
        "id": "4SOm4OyvfvE4"
      },
      "source": [
        "Now we train the model again, this time for 10 epochs and pass our checkpoint callback to the `fit()` method."
      ]
    },
    {
      "cell_type": "code",
      "execution_count": null,
      "metadata": {
        "id": "uHCxz8BJfvE5",
        "outputId": "64ddd17b-d647-4744-9005-851ac324273f"
      },
      "outputs": [
        {
          "ename": "NameError",
          "evalue": "name 'build_pretrained_vgg_model' is not defined",
          "output_type": "error",
          "traceback": [
            "\u001b[0;31m---------------------------------------------------------------------------\u001b[0m",
            "\u001b[0;31mNameError\u001b[0m                                 Traceback (most recent call last)",
            "\u001b[0;32m<ipython-input-19-0175745018cf>\u001b[0m in \u001b[0;36m<module>\u001b[0;34m\u001b[0m\n\u001b[1;32m      1\u001b[0m \u001b[0;31m# Reset the model again\u001b[0m\u001b[0;34m\u001b[0m\u001b[0;34m\u001b[0m\u001b[0;34m\u001b[0m\u001b[0m\n\u001b[0;32m----> 2\u001b[0;31m \u001b[0mmodel\u001b[0m \u001b[0;34m=\u001b[0m \u001b[0mbuild_pretrained_vgg_model\u001b[0m\u001b[0;34m(\u001b[0m\u001b[0;34m)\u001b[0m\u001b[0;34m\u001b[0m\u001b[0;34m\u001b[0m\u001b[0m\n\u001b[0m\u001b[1;32m      3\u001b[0m model.compile(optimizer=tf.keras.optimizers.Adam(lr=0.001),\n\u001b[1;32m      4\u001b[0m               \u001b[0mloss\u001b[0m\u001b[0;34m=\u001b[0m\u001b[0;34m'sparse_categorical_crossentropy'\u001b[0m\u001b[0;34m,\u001b[0m\u001b[0;34m\u001b[0m\u001b[0;34m\u001b[0m\u001b[0m\n\u001b[1;32m      5\u001b[0m               metrics=['accuracy'])\n",
            "\u001b[0;31mNameError\u001b[0m: name 'build_pretrained_vgg_model' is not defined"
          ]
        }
      ],
      "source": [
        "# Reset the model again\n",
        "model = build_pretrained_vgg_model()\n",
        "model.compile(optimizer=tf.keras.optimizers.Adam(lr=0.001),\n",
        "              loss='sparse_categorical_crossentropy',\n",
        "              metrics=['accuracy'])\n",
        "\n",
        "# The `fit` method returns a dictionary containing metrics from the training.\n",
        "# We will use that information later.\n",
        "history = model.fit(sim_features[:5000],\n",
        "                    sim_targets[:5000],\n",
        "                    batch_size=32,\n",
        "                    epochs=10,\n",
        "                    validation_split=0.2,\n",
        "                    callbacks=[ckpt_callback])"
      ]
    },
    {
      "cell_type": "markdown",
      "metadata": {
        "id": "qB69dC9OfvE5"
      },
      "source": [
        "### Evaluating the trained model\n",
        "\n",
        "Before evaluating the model on the real data, we should inspect its *learning curve*. Running the cell below will use the training history to generate a plot of the training loss and validation loss over time. The function call below will generate a learning curve for the model you just trained. Results will vary every time you run the previous cell, but you should see a point at which the training loss passes below the validation loss. This marks the onset of overfitting, which we want to avoid. There are many ways to try to remedy overfitting, such as using more training data, reducing network capacity, or using techniques like [dropout](http://www.jmlr.org/papers/volume15/srivastava14a/srivastava14a.pdf?utm_content=buffer79b43&utm_medium=social&utm_source=twitter.com&utm_campaign=buffer). One technique that should always be used, though, is *early stopping*. Early stopping means that we stop training the model once overfitting begins, i.e. when the training and validation losses diverge."
      ]
    },
    {
      "cell_type": "code",
      "execution_count": null,
      "metadata": {
        "id": "sItkAXKNfvE5"
      },
      "outputs": [],
      "source": [
        "plot_learning_curve(history)"
      ]
    },
    {
      "cell_type": "markdown",
      "metadata": {
        "id": "sqOOpLblfvE5"
      },
      "source": [
        "Obviously we trained too long in this case because the two curves diverge (overfitting started at epoch 3 when I ran this, but will probably be anywhere between 2 and 6), so we will load the network weights that were saved at the point overfitting started before we evaluate the model on the test data. Loading saved weights is easy, and we do so below. Before executing the code, set `EARLY_STOPPING_EPOCH` to the appropriate value based on your learning curve above."
      ]
    },
    {
      "cell_type": "code",
      "execution_count": null,
      "metadata": {
        "id": "BEnRPHF3fvE5"
      },
      "outputs": [],
      "source": [
        "EARLY_STOPPING_EPOCH = 0\n",
        "\n",
        "assert EARLY_STOPPING_EPOCH > 0, 'You need to set an early stopping point!'\n",
        "\n",
        "# Path the the checkpoint we want to load\n",
        "es_ckpt_path = os.path.join(CHECKPOINT_DIR, 'weights.epoch.{:02d}'.format(EARLY_STOPPING_EPOCH))\n",
        "\n",
        "# Load the weights from the desired checkpoint into the model\n",
        "model.load_weights(es_ckpt_path);"
      ]
    },
    {
      "cell_type": "markdown",
      "metadata": {
        "id": "mW5JW_4zfvE5"
      },
      "source": [
        "Now we can finally see how our model does on the real AT-TPC data!"
      ]
    },
    {
      "cell_type": "code",
      "execution_count": null,
      "metadata": {
        "id": "1HzUtNrtfvE5"
      },
      "outputs": [],
      "source": [
        "test_loss, test_accuracy = model.evaluate(real_features, real_targets, verbose=0)\n",
        "\n",
        "print('Test accuracy: {:.04}'.format(test_accuracy))"
      ]
    },
    {
      "cell_type": "markdown",
      "metadata": {
        "id": "0YwjcZGcfvE5"
      },
      "source": [
        "The number you get could vary, but it shouldn't be anywhere near the validation accuracy. This is not too suprising though. Transfer learning is hard. The network has never seen any of the real data before, and since the simulated data is not entirely accurate, we can't expect the network to know everything about the real data. Supervised learning models are generally very good at interpolation, but not extrapolation.\n",
        "\n",
        "That said, we can dig deeper than just looking at accuracy. In many cases, accuracy might not be what we are most interested in or it can even be misleading. In the case of the Argon 46 experiment, we are most interested in a model that can correctly identify proton events specifically. To get a better idea of how the model performs within each class, we will look at its *confusion matrix*.\n",
        "\n",
        "First we get the model's predictions for all of the test data."
      ]
    },
    {
      "cell_type": "code",
      "execution_count": null,
      "metadata": {
        "id": "3Fupe9S5fvE5"
      },
      "outputs": [],
      "source": [
        "# The model gives us a matrix with each example's softmax probabilities for each class\n",
        "predicted_probabilities = model.predict(real_features)\n",
        "# We reduce that to a single predicted class for each example by taking the\n",
        "# class with the largest probability\n",
        "predictions = np.argmax(predicted_probabilities, axis=1)"
      ]
    },
    {
      "cell_type": "markdown",
      "metadata": {
        "id": "tWhe4DgDfvE5"
      },
      "source": [
        "Now we can visualize the confusion matrix."
      ]
    },
    {
      "cell_type": "code",
      "execution_count": null,
      "metadata": {
        "id": "bcB3bJmGfvE5"
      },
      "outputs": [],
      "source": [
        "# Get the names of each of the classes\n",
        "class_names = [get_attpc_class(i) for i in range(num_classes)]\n",
        "\n",
        "# This function (defined at the top) will plot the confution matrix.\n",
        "# We give it the predictions and the real labels. The function relies\n",
        "# on scikit-learn's convenient confusion matrix function.\n",
        "plot_confusion_matrix(real_targets, predictions, class_names)"
      ]
    },
    {
      "cell_type": "markdown",
      "metadata": {
        "id": "Hz4-czT6fvE5"
      },
      "source": [
        "Your confusion matrix will vary, but it should give you a better idea of how your model performs within each class. From the matrix, we can extract a quantities:\n",
        "\n",
        " * **True Positives (TP):** the correctly predicted positive values, i.e. the examples which have true labels in a given class and were predicted to be in that class.\n",
        " * **True Negatives (TN):** the correctly predicted negative values, i.e. the examples which have true labels not in a given class and were predicted to not be in that class.\n",
        " * **False Positives (FP):** examples which were incorrectly assigned a positive value, i.e. the examples which have true labels not in a given class but were predicted to be in that class.\n",
        " * **False Negatives (FN):** examples which were incorrectly assigned a negative value, i.e. the examples which have true labels in a given class but were predicted to not be in that class.\n",
        "\n",
        "So in the confusion matrix above, the number of true positives for each class are along the diagonal. Using these quantities, we can now define *precision*, *recall*, and *F1-score*.\n",
        "\n",
        "$\n",
        "\\begin{align*}\n",
        "    &\\text{precision} = \\dfrac{TP}{TP + FP} \\\\\n",
        "    &\\text{recall} = \\dfrac{TP}{TP + FN} \\\\\n",
        "    &\\text{F1} = \\dfrac{2 \\cdot \\text{precision} \\cdot \\text{recall}}{\\text{precision} + \\text{recall}}\n",
        "\\end{align*}\n",
        "$\n",
        "\n",
        "These three metrics are much more indicative of a classifier's true performace than accuracy. Intuitively, precision gives us the probability that the model is correct when it classifies something as a certain class. Recall tells us the percentage of examples from a certain class that were correctly classified.\n",
        "\n",
        "We could calculate these by hand from the confusion matrix, but [Scikit-Learn](https://scikit-learn.org/) has the nice [`classification_report`](https://scikit-learn.org/stable/modules/generated/sklearn.metrics.classification_report.html) function which will do this for us. **In the cell below, replace `None` with a call to `classification_report`.**"
      ]
    },
    {
      "cell_type": "code",
      "execution_count": null,
      "metadata": {
        "id": "jAI1sbeLfvE6"
      },
      "outputs": [],
      "source": [
        "# ADD CALL TO CLASSIFICATION_REPORT HERE\n",
        "report = None\n",
        "print(report)"
      ]
    },
    {
      "cell_type": "markdown",
      "metadata": {
        "id": "NHH-DErSfvE6"
      },
      "source": [
        "Since we only trained on a few thousand examples with limited hyperparameter tuning, we don't expect great results yet. I challenge you to try to improve these results!"
      ]
    },
    {
      "cell_type": "code",
      "execution_count": null,
      "metadata": {
        "id": "sLSQ7VswfvE6"
      },
      "outputs": [],
      "source": []
    }
  ],
  "metadata": {
    "accelerator": "GPU",
    "colab": {
      "name": "cnn_exercise_solution.ipynb",
      "provenance": [],
      "toc_visible": true
    },
    "kernelspec": {
      "display_name": "Python 3",
      "language": "python",
      "name": "python3"
    },
    "language_info": {
      "codemirror_mode": {
        "name": "ipython",
        "version": 3
      },
      "file_extension": ".py",
      "mimetype": "text/x-python",
      "name": "python",
      "nbconvert_exporter": "python",
      "pygments_lexer": "ipython3",
      "version": "3.7.6"
    }
  },
  "nbformat": 4,
  "nbformat_minor": 0
}